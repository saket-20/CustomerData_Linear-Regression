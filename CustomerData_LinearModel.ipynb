{
 "cells": [
  {
   "cell_type": "code",
   "execution_count": 1,
   "metadata": {},
   "outputs": [],
   "source": [
    "import pandas as pd\n",
    "import numpy as np\n",
    "import matplotlib.pyplot as plt\n",
    "import seaborn as sns\n",
    "%matplotlib inline"
   ]
  },
  {
   "cell_type": "code",
   "execution_count": 3,
   "metadata": {},
   "outputs": [],
   "source": [
    "cust=pd.read_csv(\"ecom.csv\")"
   ]
  },
  {
   "cell_type": "code",
   "execution_count": 4,
   "metadata": {},
   "outputs": [
    {
     "data": {
      "text/html": [
       "<div>\n",
       "<style scoped>\n",
       "    .dataframe tbody tr th:only-of-type {\n",
       "        vertical-align: middle;\n",
       "    }\n",
       "\n",
       "    .dataframe tbody tr th {\n",
       "        vertical-align: top;\n",
       "    }\n",
       "\n",
       "    .dataframe thead th {\n",
       "        text-align: right;\n",
       "    }\n",
       "</style>\n",
       "<table border=\"1\" class=\"dataframe\">\n",
       "  <thead>\n",
       "    <tr style=\"text-align: right;\">\n",
       "      <th></th>\n",
       "      <th>Email</th>\n",
       "      <th>Address</th>\n",
       "      <th>Avatar</th>\n",
       "      <th>Avg. Session Length</th>\n",
       "      <th>Time on App</th>\n",
       "      <th>Time on Website</th>\n",
       "      <th>Length of Membership</th>\n",
       "      <th>Yearly Amount Spent</th>\n",
       "    </tr>\n",
       "  </thead>\n",
       "  <tbody>\n",
       "    <tr>\n",
       "      <th>0</th>\n",
       "      <td>mstephenson@fernandez.com</td>\n",
       "      <td>835 Frank Tunnel\\r\\nWrightmouth, MI 82180-9605</td>\n",
       "      <td>Violet</td>\n",
       "      <td>34.497268</td>\n",
       "      <td>12.655651</td>\n",
       "      <td>39.577668</td>\n",
       "      <td>4.082621</td>\n",
       "      <td>587.951054</td>\n",
       "    </tr>\n",
       "    <tr>\n",
       "      <th>1</th>\n",
       "      <td>hduke@hotmail.com</td>\n",
       "      <td>4547 Archer Common\\r\\nDiazchester, CA 06566-8576</td>\n",
       "      <td>DarkGreen</td>\n",
       "      <td>31.926272</td>\n",
       "      <td>11.109461</td>\n",
       "      <td>37.268959</td>\n",
       "      <td>2.664034</td>\n",
       "      <td>392.204933</td>\n",
       "    </tr>\n",
       "    <tr>\n",
       "      <th>2</th>\n",
       "      <td>pallen@yahoo.com</td>\n",
       "      <td>24645 Valerie Unions Suite 582\\r\\nCobbborough,...</td>\n",
       "      <td>Bisque</td>\n",
       "      <td>33.000915</td>\n",
       "      <td>11.330278</td>\n",
       "      <td>37.110597</td>\n",
       "      <td>4.104543</td>\n",
       "      <td>487.547505</td>\n",
       "    </tr>\n",
       "    <tr>\n",
       "      <th>3</th>\n",
       "      <td>riverarebecca@gmail.com</td>\n",
       "      <td>1414 David Throughway\\r\\nPort Jason, OH 22070-...</td>\n",
       "      <td>SaddleBrown</td>\n",
       "      <td>34.305557</td>\n",
       "      <td>13.717514</td>\n",
       "      <td>36.721283</td>\n",
       "      <td>3.120179</td>\n",
       "      <td>581.852344</td>\n",
       "    </tr>\n",
       "    <tr>\n",
       "      <th>4</th>\n",
       "      <td>mstephens@davidson-herman.com</td>\n",
       "      <td>14023 Rodriguez Passage\\r\\nPort Jacobville, PR...</td>\n",
       "      <td>MediumAquaMarine</td>\n",
       "      <td>33.330673</td>\n",
       "      <td>12.795189</td>\n",
       "      <td>37.536653</td>\n",
       "      <td>4.446308</td>\n",
       "      <td>599.406092</td>\n",
       "    </tr>\n",
       "    <tr>\n",
       "      <th>...</th>\n",
       "      <td>...</td>\n",
       "      <td>...</td>\n",
       "      <td>...</td>\n",
       "      <td>...</td>\n",
       "      <td>...</td>\n",
       "      <td>...</td>\n",
       "      <td>...</td>\n",
       "      <td>...</td>\n",
       "    </tr>\n",
       "    <tr>\n",
       "      <th>495</th>\n",
       "      <td>lewisjessica@craig-evans.com</td>\n",
       "      <td>4483 Jones Motorway Suite 872\\r\\nLake Jamiefur...</td>\n",
       "      <td>Tan</td>\n",
       "      <td>33.237660</td>\n",
       "      <td>13.566160</td>\n",
       "      <td>36.417985</td>\n",
       "      <td>3.746573</td>\n",
       "      <td>573.847438</td>\n",
       "    </tr>\n",
       "    <tr>\n",
       "      <th>496</th>\n",
       "      <td>katrina56@gmail.com</td>\n",
       "      <td>172 Owen Divide Suite 497\\r\\nWest Richard, CA ...</td>\n",
       "      <td>PaleVioletRed</td>\n",
       "      <td>34.702529</td>\n",
       "      <td>11.695736</td>\n",
       "      <td>37.190268</td>\n",
       "      <td>3.576526</td>\n",
       "      <td>529.049004</td>\n",
       "    </tr>\n",
       "    <tr>\n",
       "      <th>497</th>\n",
       "      <td>dale88@hotmail.com</td>\n",
       "      <td>0787 Andrews Ranch Apt. 633\\r\\nSouth Chadburgh...</td>\n",
       "      <td>Cornsilk</td>\n",
       "      <td>32.646777</td>\n",
       "      <td>11.499409</td>\n",
       "      <td>38.332576</td>\n",
       "      <td>4.958264</td>\n",
       "      <td>551.620145</td>\n",
       "    </tr>\n",
       "    <tr>\n",
       "      <th>498</th>\n",
       "      <td>cwilson@hotmail.com</td>\n",
       "      <td>680 Jennifer Lodge Apt. 808\\r\\nBrendachester, ...</td>\n",
       "      <td>Teal</td>\n",
       "      <td>33.322501</td>\n",
       "      <td>12.391423</td>\n",
       "      <td>36.840086</td>\n",
       "      <td>2.336485</td>\n",
       "      <td>456.469510</td>\n",
       "    </tr>\n",
       "    <tr>\n",
       "      <th>499</th>\n",
       "      <td>hannahwilson@davidson.com</td>\n",
       "      <td>49791 Rachel Heights Apt. 898\\r\\nEast Drewboro...</td>\n",
       "      <td>DarkMagenta</td>\n",
       "      <td>33.715981</td>\n",
       "      <td>12.418808</td>\n",
       "      <td>35.771016</td>\n",
       "      <td>2.735160</td>\n",
       "      <td>497.778642</td>\n",
       "    </tr>\n",
       "  </tbody>\n",
       "</table>\n",
       "<p>500 rows × 8 columns</p>\n",
       "</div>"
      ],
      "text/plain": [
       "                             Email  \\\n",
       "0        mstephenson@fernandez.com   \n",
       "1                hduke@hotmail.com   \n",
       "2                 pallen@yahoo.com   \n",
       "3          riverarebecca@gmail.com   \n",
       "4    mstephens@davidson-herman.com   \n",
       "..                             ...   \n",
       "495   lewisjessica@craig-evans.com   \n",
       "496            katrina56@gmail.com   \n",
       "497             dale88@hotmail.com   \n",
       "498            cwilson@hotmail.com   \n",
       "499      hannahwilson@davidson.com   \n",
       "\n",
       "                                               Address            Avatar  \\\n",
       "0       835 Frank Tunnel\\r\\nWrightmouth, MI 82180-9605            Violet   \n",
       "1     4547 Archer Common\\r\\nDiazchester, CA 06566-8576         DarkGreen   \n",
       "2    24645 Valerie Unions Suite 582\\r\\nCobbborough,...            Bisque   \n",
       "3    1414 David Throughway\\r\\nPort Jason, OH 22070-...       SaddleBrown   \n",
       "4    14023 Rodriguez Passage\\r\\nPort Jacobville, PR...  MediumAquaMarine   \n",
       "..                                                 ...               ...   \n",
       "495  4483 Jones Motorway Suite 872\\r\\nLake Jamiefur...               Tan   \n",
       "496  172 Owen Divide Suite 497\\r\\nWest Richard, CA ...     PaleVioletRed   \n",
       "497  0787 Andrews Ranch Apt. 633\\r\\nSouth Chadburgh...          Cornsilk   \n",
       "498  680 Jennifer Lodge Apt. 808\\r\\nBrendachester, ...              Teal   \n",
       "499  49791 Rachel Heights Apt. 898\\r\\nEast Drewboro...       DarkMagenta   \n",
       "\n",
       "     Avg. Session Length  Time on App  Time on Website  Length of Membership  \\\n",
       "0              34.497268    12.655651        39.577668              4.082621   \n",
       "1              31.926272    11.109461        37.268959              2.664034   \n",
       "2              33.000915    11.330278        37.110597              4.104543   \n",
       "3              34.305557    13.717514        36.721283              3.120179   \n",
       "4              33.330673    12.795189        37.536653              4.446308   \n",
       "..                   ...          ...              ...                   ...   \n",
       "495            33.237660    13.566160        36.417985              3.746573   \n",
       "496            34.702529    11.695736        37.190268              3.576526   \n",
       "497            32.646777    11.499409        38.332576              4.958264   \n",
       "498            33.322501    12.391423        36.840086              2.336485   \n",
       "499            33.715981    12.418808        35.771016              2.735160   \n",
       "\n",
       "     Yearly Amount Spent  \n",
       "0             587.951054  \n",
       "1             392.204933  \n",
       "2             487.547505  \n",
       "3             581.852344  \n",
       "4             599.406092  \n",
       "..                   ...  \n",
       "495           573.847438  \n",
       "496           529.049004  \n",
       "497           551.620145  \n",
       "498           456.469510  \n",
       "499           497.778642  \n",
       "\n",
       "[500 rows x 8 columns]"
      ]
     },
     "execution_count": 4,
     "metadata": {},
     "output_type": "execute_result"
    }
   ],
   "source": [
    "cust"
   ]
  },
  {
   "cell_type": "code",
   "execution_count": 5,
   "metadata": {},
   "outputs": [
    {
     "data": {
      "text/html": [
       "<div>\n",
       "<style scoped>\n",
       "    .dataframe tbody tr th:only-of-type {\n",
       "        vertical-align: middle;\n",
       "    }\n",
       "\n",
       "    .dataframe tbody tr th {\n",
       "        vertical-align: top;\n",
       "    }\n",
       "\n",
       "    .dataframe thead th {\n",
       "        text-align: right;\n",
       "    }\n",
       "</style>\n",
       "<table border=\"1\" class=\"dataframe\">\n",
       "  <thead>\n",
       "    <tr style=\"text-align: right;\">\n",
       "      <th></th>\n",
       "      <th>Email</th>\n",
       "      <th>Address</th>\n",
       "      <th>Avatar</th>\n",
       "      <th>Avg. Session Length</th>\n",
       "      <th>Time on App</th>\n",
       "      <th>Time on Website</th>\n",
       "      <th>Length of Membership</th>\n",
       "      <th>Yearly Amount Spent</th>\n",
       "    </tr>\n",
       "  </thead>\n",
       "  <tbody>\n",
       "    <tr>\n",
       "      <th>0</th>\n",
       "      <td>mstephenson@fernandez.com</td>\n",
       "      <td>835 Frank Tunnel\\r\\nWrightmouth, MI 82180-9605</td>\n",
       "      <td>Violet</td>\n",
       "      <td>34.497268</td>\n",
       "      <td>12.655651</td>\n",
       "      <td>39.577668</td>\n",
       "      <td>4.082621</td>\n",
       "      <td>587.951054</td>\n",
       "    </tr>\n",
       "    <tr>\n",
       "      <th>1</th>\n",
       "      <td>hduke@hotmail.com</td>\n",
       "      <td>4547 Archer Common\\r\\nDiazchester, CA 06566-8576</td>\n",
       "      <td>DarkGreen</td>\n",
       "      <td>31.926272</td>\n",
       "      <td>11.109461</td>\n",
       "      <td>37.268959</td>\n",
       "      <td>2.664034</td>\n",
       "      <td>392.204933</td>\n",
       "    </tr>\n",
       "    <tr>\n",
       "      <th>2</th>\n",
       "      <td>pallen@yahoo.com</td>\n",
       "      <td>24645 Valerie Unions Suite 582\\r\\nCobbborough,...</td>\n",
       "      <td>Bisque</td>\n",
       "      <td>33.000915</td>\n",
       "      <td>11.330278</td>\n",
       "      <td>37.110597</td>\n",
       "      <td>4.104543</td>\n",
       "      <td>487.547505</td>\n",
       "    </tr>\n",
       "    <tr>\n",
       "      <th>3</th>\n",
       "      <td>riverarebecca@gmail.com</td>\n",
       "      <td>1414 David Throughway\\r\\nPort Jason, OH 22070-...</td>\n",
       "      <td>SaddleBrown</td>\n",
       "      <td>34.305557</td>\n",
       "      <td>13.717514</td>\n",
       "      <td>36.721283</td>\n",
       "      <td>3.120179</td>\n",
       "      <td>581.852344</td>\n",
       "    </tr>\n",
       "    <tr>\n",
       "      <th>4</th>\n",
       "      <td>mstephens@davidson-herman.com</td>\n",
       "      <td>14023 Rodriguez Passage\\r\\nPort Jacobville, PR...</td>\n",
       "      <td>MediumAquaMarine</td>\n",
       "      <td>33.330673</td>\n",
       "      <td>12.795189</td>\n",
       "      <td>37.536653</td>\n",
       "      <td>4.446308</td>\n",
       "      <td>599.406092</td>\n",
       "    </tr>\n",
       "  </tbody>\n",
       "</table>\n",
       "</div>"
      ],
      "text/plain": [
       "                           Email  \\\n",
       "0      mstephenson@fernandez.com   \n",
       "1              hduke@hotmail.com   \n",
       "2               pallen@yahoo.com   \n",
       "3        riverarebecca@gmail.com   \n",
       "4  mstephens@davidson-herman.com   \n",
       "\n",
       "                                             Address            Avatar  \\\n",
       "0     835 Frank Tunnel\\r\\nWrightmouth, MI 82180-9605            Violet   \n",
       "1   4547 Archer Common\\r\\nDiazchester, CA 06566-8576         DarkGreen   \n",
       "2  24645 Valerie Unions Suite 582\\r\\nCobbborough,...            Bisque   \n",
       "3  1414 David Throughway\\r\\nPort Jason, OH 22070-...       SaddleBrown   \n",
       "4  14023 Rodriguez Passage\\r\\nPort Jacobville, PR...  MediumAquaMarine   \n",
       "\n",
       "   Avg. Session Length  Time on App  Time on Website  Length of Membership  \\\n",
       "0            34.497268    12.655651        39.577668              4.082621   \n",
       "1            31.926272    11.109461        37.268959              2.664034   \n",
       "2            33.000915    11.330278        37.110597              4.104543   \n",
       "3            34.305557    13.717514        36.721283              3.120179   \n",
       "4            33.330673    12.795189        37.536653              4.446308   \n",
       "\n",
       "   Yearly Amount Spent  \n",
       "0           587.951054  \n",
       "1           392.204933  \n",
       "2           487.547505  \n",
       "3           581.852344  \n",
       "4           599.406092  "
      ]
     },
     "execution_count": 5,
     "metadata": {},
     "output_type": "execute_result"
    }
   ],
   "source": [
    "cust.head()"
   ]
  },
  {
   "cell_type": "code",
   "execution_count": 6,
   "metadata": {},
   "outputs": [
    {
     "data": {
      "text/html": [
       "<div>\n",
       "<style scoped>\n",
       "    .dataframe tbody tr th:only-of-type {\n",
       "        vertical-align: middle;\n",
       "    }\n",
       "\n",
       "    .dataframe tbody tr th {\n",
       "        vertical-align: top;\n",
       "    }\n",
       "\n",
       "    .dataframe thead th {\n",
       "        text-align: right;\n",
       "    }\n",
       "</style>\n",
       "<table border=\"1\" class=\"dataframe\">\n",
       "  <thead>\n",
       "    <tr style=\"text-align: right;\">\n",
       "      <th></th>\n",
       "      <th>Email</th>\n",
       "      <th>Address</th>\n",
       "      <th>Avatar</th>\n",
       "      <th>Avg. Session Length</th>\n",
       "      <th>Time on App</th>\n",
       "      <th>Time on Website</th>\n",
       "      <th>Length of Membership</th>\n",
       "      <th>Yearly Amount Spent</th>\n",
       "    </tr>\n",
       "  </thead>\n",
       "  <tbody>\n",
       "    <tr>\n",
       "      <th>495</th>\n",
       "      <td>lewisjessica@craig-evans.com</td>\n",
       "      <td>4483 Jones Motorway Suite 872\\r\\nLake Jamiefur...</td>\n",
       "      <td>Tan</td>\n",
       "      <td>33.237660</td>\n",
       "      <td>13.566160</td>\n",
       "      <td>36.417985</td>\n",
       "      <td>3.746573</td>\n",
       "      <td>573.847438</td>\n",
       "    </tr>\n",
       "    <tr>\n",
       "      <th>496</th>\n",
       "      <td>katrina56@gmail.com</td>\n",
       "      <td>172 Owen Divide Suite 497\\r\\nWest Richard, CA ...</td>\n",
       "      <td>PaleVioletRed</td>\n",
       "      <td>34.702529</td>\n",
       "      <td>11.695736</td>\n",
       "      <td>37.190268</td>\n",
       "      <td>3.576526</td>\n",
       "      <td>529.049004</td>\n",
       "    </tr>\n",
       "    <tr>\n",
       "      <th>497</th>\n",
       "      <td>dale88@hotmail.com</td>\n",
       "      <td>0787 Andrews Ranch Apt. 633\\r\\nSouth Chadburgh...</td>\n",
       "      <td>Cornsilk</td>\n",
       "      <td>32.646777</td>\n",
       "      <td>11.499409</td>\n",
       "      <td>38.332576</td>\n",
       "      <td>4.958264</td>\n",
       "      <td>551.620145</td>\n",
       "    </tr>\n",
       "    <tr>\n",
       "      <th>498</th>\n",
       "      <td>cwilson@hotmail.com</td>\n",
       "      <td>680 Jennifer Lodge Apt. 808\\r\\nBrendachester, ...</td>\n",
       "      <td>Teal</td>\n",
       "      <td>33.322501</td>\n",
       "      <td>12.391423</td>\n",
       "      <td>36.840086</td>\n",
       "      <td>2.336485</td>\n",
       "      <td>456.469510</td>\n",
       "    </tr>\n",
       "    <tr>\n",
       "      <th>499</th>\n",
       "      <td>hannahwilson@davidson.com</td>\n",
       "      <td>49791 Rachel Heights Apt. 898\\r\\nEast Drewboro...</td>\n",
       "      <td>DarkMagenta</td>\n",
       "      <td>33.715981</td>\n",
       "      <td>12.418808</td>\n",
       "      <td>35.771016</td>\n",
       "      <td>2.735160</td>\n",
       "      <td>497.778642</td>\n",
       "    </tr>\n",
       "  </tbody>\n",
       "</table>\n",
       "</div>"
      ],
      "text/plain": [
       "                            Email  \\\n",
       "495  lewisjessica@craig-evans.com   \n",
       "496           katrina56@gmail.com   \n",
       "497            dale88@hotmail.com   \n",
       "498           cwilson@hotmail.com   \n",
       "499     hannahwilson@davidson.com   \n",
       "\n",
       "                                               Address         Avatar  \\\n",
       "495  4483 Jones Motorway Suite 872\\r\\nLake Jamiefur...            Tan   \n",
       "496  172 Owen Divide Suite 497\\r\\nWest Richard, CA ...  PaleVioletRed   \n",
       "497  0787 Andrews Ranch Apt. 633\\r\\nSouth Chadburgh...       Cornsilk   \n",
       "498  680 Jennifer Lodge Apt. 808\\r\\nBrendachester, ...           Teal   \n",
       "499  49791 Rachel Heights Apt. 898\\r\\nEast Drewboro...    DarkMagenta   \n",
       "\n",
       "     Avg. Session Length  Time on App  Time on Website  Length of Membership  \\\n",
       "495            33.237660    13.566160        36.417985              3.746573   \n",
       "496            34.702529    11.695736        37.190268              3.576526   \n",
       "497            32.646777    11.499409        38.332576              4.958264   \n",
       "498            33.322501    12.391423        36.840086              2.336485   \n",
       "499            33.715981    12.418808        35.771016              2.735160   \n",
       "\n",
       "     Yearly Amount Spent  \n",
       "495           573.847438  \n",
       "496           529.049004  \n",
       "497           551.620145  \n",
       "498           456.469510  \n",
       "499           497.778642  "
      ]
     },
     "execution_count": 6,
     "metadata": {},
     "output_type": "execute_result"
    }
   ],
   "source": [
    "cust.tail()"
   ]
  },
  {
   "cell_type": "code",
   "execution_count": 32,
   "metadata": {},
   "outputs": [
    {
     "name": "stdout",
     "output_type": "stream",
     "text": [
      "<class 'pandas.core.frame.DataFrame'>\n",
      "RangeIndex: 500 entries, 0 to 499\n",
      "Data columns (total 8 columns):\n",
      " #   Column                Non-Null Count  Dtype  \n",
      "---  ------                --------------  -----  \n",
      " 0   Email                 500 non-null    object \n",
      " 1   Address               500 non-null    object \n",
      " 2   Avatar                500 non-null    object \n",
      " 3   Avg. Session Length   500 non-null    float64\n",
      " 4   Time on App           500 non-null    float64\n",
      " 5   Time on Website       500 non-null    float64\n",
      " 6   Length of Membership  500 non-null    float64\n",
      " 7   Yearly Amount Spent   500 non-null    float64\n",
      "dtypes: float64(5), object(3)\n",
      "memory usage: 31.4+ KB\n"
     ]
    },
    {
     "data": {
      "text/html": [
       "<div>\n",
       "<style scoped>\n",
       "    .dataframe tbody tr th:only-of-type {\n",
       "        vertical-align: middle;\n",
       "    }\n",
       "\n",
       "    .dataframe tbody tr th {\n",
       "        vertical-align: top;\n",
       "    }\n",
       "\n",
       "    .dataframe thead th {\n",
       "        text-align: right;\n",
       "    }\n",
       "</style>\n",
       "<table border=\"1\" class=\"dataframe\">\n",
       "  <thead>\n",
       "    <tr style=\"text-align: right;\">\n",
       "      <th></th>\n",
       "      <th>Avg. Session Length</th>\n",
       "      <th>Time on App</th>\n",
       "      <th>Time on Website</th>\n",
       "      <th>Length of Membership</th>\n",
       "      <th>Yearly Amount Spent</th>\n",
       "    </tr>\n",
       "  </thead>\n",
       "  <tbody>\n",
       "    <tr>\n",
       "      <th>count</th>\n",
       "      <td>500.000000</td>\n",
       "      <td>500.000000</td>\n",
       "      <td>500.000000</td>\n",
       "      <td>500.000000</td>\n",
       "      <td>500.000000</td>\n",
       "    </tr>\n",
       "    <tr>\n",
       "      <th>mean</th>\n",
       "      <td>33.053194</td>\n",
       "      <td>12.052488</td>\n",
       "      <td>37.060445</td>\n",
       "      <td>3.533462</td>\n",
       "      <td>499.314038</td>\n",
       "    </tr>\n",
       "    <tr>\n",
       "      <th>std</th>\n",
       "      <td>0.992563</td>\n",
       "      <td>0.994216</td>\n",
       "      <td>1.010489</td>\n",
       "      <td>0.999278</td>\n",
       "      <td>79.314782</td>\n",
       "    </tr>\n",
       "    <tr>\n",
       "      <th>min</th>\n",
       "      <td>29.532429</td>\n",
       "      <td>8.508152</td>\n",
       "      <td>33.913847</td>\n",
       "      <td>0.269901</td>\n",
       "      <td>256.670582</td>\n",
       "    </tr>\n",
       "    <tr>\n",
       "      <th>25%</th>\n",
       "      <td>32.341822</td>\n",
       "      <td>11.388153</td>\n",
       "      <td>36.349257</td>\n",
       "      <td>2.930450</td>\n",
       "      <td>445.038277</td>\n",
       "    </tr>\n",
       "    <tr>\n",
       "      <th>50%</th>\n",
       "      <td>33.082008</td>\n",
       "      <td>11.983231</td>\n",
       "      <td>37.069367</td>\n",
       "      <td>3.533975</td>\n",
       "      <td>498.887875</td>\n",
       "    </tr>\n",
       "    <tr>\n",
       "      <th>75%</th>\n",
       "      <td>33.711985</td>\n",
       "      <td>12.753850</td>\n",
       "      <td>37.716432</td>\n",
       "      <td>4.126502</td>\n",
       "      <td>549.313828</td>\n",
       "    </tr>\n",
       "    <tr>\n",
       "      <th>max</th>\n",
       "      <td>36.139662</td>\n",
       "      <td>15.126994</td>\n",
       "      <td>40.005182</td>\n",
       "      <td>6.922689</td>\n",
       "      <td>765.518462</td>\n",
       "    </tr>\n",
       "  </tbody>\n",
       "</table>\n",
       "</div>"
      ],
      "text/plain": [
       "       Avg. Session Length  Time on App  Time on Website  \\\n",
       "count           500.000000   500.000000       500.000000   \n",
       "mean             33.053194    12.052488        37.060445   \n",
       "std               0.992563     0.994216         1.010489   \n",
       "min              29.532429     8.508152        33.913847   \n",
       "25%              32.341822    11.388153        36.349257   \n",
       "50%              33.082008    11.983231        37.069367   \n",
       "75%              33.711985    12.753850        37.716432   \n",
       "max              36.139662    15.126994        40.005182   \n",
       "\n",
       "       Length of Membership  Yearly Amount Spent  \n",
       "count            500.000000           500.000000  \n",
       "mean               3.533462           499.314038  \n",
       "std                0.999278            79.314782  \n",
       "min                0.269901           256.670582  \n",
       "25%                2.930450           445.038277  \n",
       "50%                3.533975           498.887875  \n",
       "75%                4.126502           549.313828  \n",
       "max                6.922689           765.518462  "
      ]
     },
     "execution_count": 32,
     "metadata": {},
     "output_type": "execute_result"
    }
   ],
   "source": [
    "cust.info()\n",
    "cust.describe()"
   ]
  },
  {
   "cell_type": "code",
   "execution_count": 33,
   "metadata": {},
   "outputs": [
    {
     "data": {
      "text/plain": [
       "36.13966248879052"
      ]
     },
     "execution_count": 33,
     "metadata": {},
     "output_type": "execute_result"
    }
   ],
   "source": [
    "cust[\"Avg. Session Length\"].max()"
   ]
  },
  {
   "cell_type": "code",
   "execution_count": 9,
   "metadata": {},
   "outputs": [],
   "source": [
    "#Plotting and exploratory analysis"
   ]
  },
  {
   "cell_type": "code",
   "execution_count": 10,
   "metadata": {},
   "outputs": [
    {
     "data": {
      "text/plain": [
       "Index(['Email', 'Address', 'Avatar', 'Avg. Session Length', 'Time on App',\n",
       "       'Time on Website', 'Length of Membership', 'Yearly Amount Spent'],\n",
       "      dtype='object')"
      ]
     },
     "execution_count": 10,
     "metadata": {},
     "output_type": "execute_result"
    }
   ],
   "source": [
    "cust.columns"
   ]
  },
  {
   "cell_type": "code",
   "execution_count": 11,
   "metadata": {},
   "outputs": [
    {
     "data": {
      "text/plain": [
       "<seaborn.axisgrid.JointGrid at 0x1f4daa80c50>"
      ]
     },
     "execution_count": 11,
     "metadata": {},
     "output_type": "execute_result"
    },
    {
     "data": {
      "image/png": "[encoded data removed]",
      "text/plain": [
       "<Figure size 432x432 with 3 Axes>"
      ]
     },
     "metadata": {
      "needs_background": "light"
     },
     "output_type": "display_data"
    }
   ],
   "source": [
    "sns.jointplot(x='Time on Website',y='Yearly Amount Spent',data=cust,kind='scatter')"
   ]
  },
  {
   "cell_type": "code",
   "execution_count": 13,
   "metadata": {},
   "outputs": [
    {
     "data": {
      "text/plain": [
       "<seaborn.axisgrid.JointGrid at 0x1f4db473630>"
      ]
     },
     "execution_count": 13,
     "metadata": {},
     "output_type": "execute_result"
    },
    {
     "data": {
      "image/png": "[encoded data removed]",
      "text/plain": [
       "<Figure size 432x432 with 3 Axes>"
      ]
     },
     "metadata": {
      "needs_background": "light"
     },
     "output_type": "display_data"
    }
   ],
   "source": [
    "sns.jointplot(x='Time on App',y='Yearly Amount Spent',data=cust,kind='scatter')"
   ]
  },
  {
   "cell_type": "code",
   "execution_count": 14,
   "metadata": {},
   "outputs": [
    {
     "data": {
      "text/plain": [
       "<seaborn.axisgrid.JointGrid at 0x1f4db547c18>"
      ]
     },
     "execution_count": 14,
     "metadata": {},
     "output_type": "execute_result"
    },
    {
     "data": {
      "image/png": "[encoded data removed]",
      "text/plain": [
       "<Figure size 432x432 with 3 Axes>"
      ]
     },
     "metadata": {
      "needs_background": "light"
     },
     "output_type": "display_data"
    }
   ],
   "source": [
    "sns.jointplot(x='Time on App',y='Length of Membership',data=cust,kind='hex')"
   ]
  },
  {
   "cell_type": "code",
   "execution_count": 35,
   "metadata": {},
   "outputs": [
    {
     "data": {
      "text/plain": [
       "<seaborn.axisgrid.JointGrid at 0x1f4e1d03c88>"
      ]
     },
     "execution_count": 35,
     "metadata": {},
     "output_type": "execute_result"
    },
    {
     "data": {
      "image/png": "[encoded data removed]",
      "text/plain": [
       "<Figure size 432x432 with 3 Axes>"
      ]
     },
     "metadata": {
      "needs_background": "light"
     },
     "output_type": "display_data"
    }
   ],
   "source": [
    "\n",
    "sns.jointplot(x='Length of Membership',y='Yearly Amount Spent',data=cust)"
   ]
  },
  {
   "cell_type": "code",
   "execution_count": 36,
   "metadata": {},
   "outputs": [
    {
     "data": {
      "text/plain": [
       "<seaborn.axisgrid.FacetGrid at 0x1f4e1e7b4a8>"
      ]
     },
     "execution_count": 36,
     "metadata": {},
     "output_type": "execute_result"
    },
    {
     "data": {
      "image/png": "[encoded data removed]",
      "text/plain": [
       "<Figure size 360x360 with 1 Axes>"
      ]
     },
     "metadata": {
      "needs_background": "light"
     },
     "output_type": "display_data"
    }
   ],
   "source": [
    "sns.lmplot(x='Length of Membership',y='Yearly Amount Spent',data=cust)"
   ]
  },
  {
   "cell_type": "code",
   "execution_count": 16,
   "metadata": {},
   "outputs": [],
   "source": [
    "xvar=cust[[\"Avg. Session Length\",'Time on App','Time on Website','Length of Membership']]"
   ]
  },
  {
   "cell_type": "code",
   "execution_count": 17,
   "metadata": {},
   "outputs": [],
   "source": [
    "yvar=cust[\"Yearly Amount Spent\"]"
   ]
  },
  {
   "cell_type": "code",
   "execution_count": 18,
   "metadata": {},
   "outputs": [],
   "source": [
    "from sklearn.model_selection import train_test_split"
   ]
  },
  {
   "cell_type": "code",
   "execution_count": 19,
   "metadata": {},
   "outputs": [],
   "source": [
    "xtrn,xtst,ytrn,ytst=train_test_split(xvar,yvar)"
   ]
  },
  {
   "cell_type": "code",
   "execution_count": 20,
   "metadata": {},
   "outputs": [],
   "source": [
    "from sklearn.linear_model import LinearRegression"
   ]
  },
  {
   "cell_type": "code",
   "execution_count": 21,
   "metadata": {},
   "outputs": [],
   "source": [
    "linearmodel=LinearRegression()"
   ]
  },
  {
   "cell_type": "code",
   "execution_count": 22,
   "metadata": {},
   "outputs": [
    {
     "data": {
      "text/plain": [
       "LinearRegression(copy_X=True, fit_intercept=True, n_jobs=None, normalize=False)"
      ]
     },
     "execution_count": 22,
     "metadata": {},
     "output_type": "execute_result"
    }
   ],
   "source": [
    "linearmodel.fit(xtrn,ytrn)"
   ]
  },
  {
   "cell_type": "code",
   "execution_count": 23,
   "metadata": {},
   "outputs": [
    {
     "data": {
      "text/plain": [
       "array([25.91998266, 38.2893941 ,  0.60701171, 61.52500156])"
      ]
     },
     "execution_count": 23,
     "metadata": {},
     "output_type": "execute_result"
    }
   ],
   "source": [
    "linearmodel.coef_"
   ]
  },
  {
   "cell_type": "code",
   "execution_count": 24,
   "metadata": {},
   "outputs": [
    {
     "data": {
      "text/plain": [
       "array([615.40176713, 608.24964339, 530.66018421, 530.71429582,\n",
       "       563.25552145, 508.49619617, 526.70368435, 337.71335027,\n",
       "       491.13071672, 573.27921993, 607.69920124, 544.49852327,\n",
       "       484.2655086 , 650.61256237, 496.59368312, 438.02057293,\n",
       "       504.54383639, 481.04942617, 519.92806532, 430.73963016,\n",
       "       460.4120886 , 437.71597474, 558.20780413, 493.6693648 ,\n",
       "       599.09449028, 592.66634814, 548.07698967, 387.82028686,\n",
       "       420.87148586, 480.81103804, 450.1011573 , 531.29596755,\n",
       "       477.99201983, 527.6916468 , 441.24206559, 675.33532599,\n",
       "       468.65114188, 449.62910488, 477.91274608, 445.03166401,\n",
       "       601.20191766, 502.02287202, 444.45301693, 455.00063172,\n",
       "       511.52341518, 508.24574224, 507.06295615, 562.22537078,\n",
       "       587.9422695 , 681.96845757, 494.09549876, 451.94843623,\n",
       "       507.79899643, 670.60812025, 588.99280014, 479.91179149,\n",
       "       505.50171634, 562.14765433, 597.36219543, 463.72862   ,\n",
       "       411.16987419, 451.19867543, 528.51471741, 609.73439975,\n",
       "       567.54386768, 467.67731047, 472.63771451, 424.18352218,\n",
       "       514.61994795, 583.64358685, 472.42139516, 560.25021489,\n",
       "       445.85649034, 500.68175072, 395.78259135, 588.13514516,\n",
       "       347.2346693 , 492.85818221, 455.55006433, 558.42309572,\n",
       "       480.15569821, 551.31923988, 568.32434212, 498.94841037,\n",
       "       408.12382004, 589.7457425 , 538.09053762, 431.60366923,\n",
       "       470.27423797, 461.0804856 , 431.47938518, 477.2695928 ,\n",
       "       440.4786895 , 571.65550796, 340.76432362, 600.54543378,\n",
       "       516.50749507, 530.88686386, 499.95048878, 487.24030036,\n",
       "       376.66386811, 427.53686897, 390.00884279, 576.31348313,\n",
       "       411.18362995, 511.11093698, 479.74121333, 485.57581381,\n",
       "       531.4827619 , 528.82039071, 364.75790046, 481.10337861,\n",
       "       577.90652772, 527.2879086 , 481.25358726, 571.98083856,\n",
       "       661.50829871, 393.68861559, 724.00207337, 594.48160167,\n",
       "       584.34534732, 517.64967132, 764.32307316, 555.56273126,\n",
       "       463.66299949])"
      ]
     },
     "execution_count": 24,
     "metadata": {},
     "output_type": "execute_result"
    }
   ],
   "source": [
    "linearmodel.predict(xtst)"
   ]
  },
  {
   "cell_type": "code",
   "execution_count": 25,
   "metadata": {},
   "outputs": [
    {
     "data": {
      "text/plain": [
       "<matplotlib.collections.PathCollection at 0x1f4dbb17dd8>"
      ]
     },
     "execution_count": 25,
     "metadata": {},
     "output_type": "execute_result"
    },
    {
     "data": {
      "image/png": "[encoded data removed]",
      "text/plain": [
       "<Figure size 432x288 with 1 Axes>"
      ]
     },
     "metadata": {
      "needs_background": "light"
     },
     "output_type": "display_data"
    }
   ],
   "source": [
    "plt.scatter(ytst,linearmodel.predict(xtst))"
   ]
  },
  {
   "cell_type": "code",
   "execution_count": 27,
   "metadata": {},
   "outputs": [
    {
     "data": {
      "text/plain": [
       "8.101133019319645"
      ]
     },
     "execution_count": 27,
     "metadata": {},
     "output_type": "execute_result"
    }
   ],
   "source": [
    "from sklearn import metrics\n",
    "metrics.mean_absolute_error(ytst,linearmodel.predict(xtst))"
   ]
  },
  {
   "cell_type": "code",
   "execution_count": null,
   "metadata": {},
   "outputs": [],
   "source": []
  },
  {
   "cell_type": "code",
   "execution_count": 28,
   "metadata": {},
   "outputs": [
    {
     "data": {
      "text/plain": [
       "(array([ 1.,  1.,  8., 16., 21., 22., 20., 22., 10.,  4.]),\n",
       " array([-26.93403786, -21.89495934, -16.85588082, -11.81680231,\n",
       "         -6.77772379,  -1.73864528,   3.30043324,   8.33951176,\n",
       "         13.37859027,  18.41766879,  23.45674731]),\n",
       " <a list of 10 Patch objects>)"
      ]
     },
     "execution_count": 28,
     "metadata": {},
     "output_type": "execute_result"
    },
    {
     "data": {
      "image/png": "[encoded data removed]",
      "text/plain": [
       "<Figure size 432x288 with 1 Axes>"
      ]
     },
     "metadata": {
      "needs_background": "light"
     },
     "output_type": "display_data"
    }
   ],
   "source": [
    "plt.hist(ytst-linearmodel.predict(xtst),color='red')"
   ]
  },
  {
   "cell_type": "code",
   "execution_count": 29,
   "metadata": {},
   "outputs": [
    {
     "data": {
      "text/html": [
       "<div>\n",
       "<style scoped>\n",
       "    .dataframe tbody tr th:only-of-type {\n",
       "        vertical-align: middle;\n",
       "    }\n",
       "\n",
       "    .dataframe tbody tr th {\n",
       "        vertical-align: top;\n",
       "    }\n",
       "\n",
       "    .dataframe thead th {\n",
       "        text-align: right;\n",
       "    }\n",
       "</style>\n",
       "<table border=\"1\" class=\"dataframe\">\n",
       "  <thead>\n",
       "    <tr style=\"text-align: right;\">\n",
       "      <th></th>\n",
       "      <th>Coeff</th>\n",
       "    </tr>\n",
       "  </thead>\n",
       "  <tbody>\n",
       "    <tr>\n",
       "      <th>Avg. Session Length</th>\n",
       "      <td>25.919983</td>\n",
       "    </tr>\n",
       "    <tr>\n",
       "      <th>Time on App</th>\n",
       "      <td>38.289394</td>\n",
       "    </tr>\n",
       "    <tr>\n",
       "      <th>Time on Website</th>\n",
       "      <td>0.607012</td>\n",
       "    </tr>\n",
       "    <tr>\n",
       "      <th>Length of Membership</th>\n",
       "      <td>61.525002</td>\n",
       "    </tr>\n",
       "  </tbody>\n",
       "</table>\n",
       "</div>"
      ],
      "text/plain": [
       "                          Coeff\n",
       "Avg. Session Length   25.919983\n",
       "Time on App           38.289394\n",
       "Time on Website        0.607012\n",
       "Length of Membership  61.525002"
      ]
     },
     "execution_count": 29,
     "metadata": {},
     "output_type": "execute_result"
    }
   ],
   "source": [
    "ans=pd.DataFrame(linearmodel.coef_,xvar.columns,columns=[\"Coeff\"])\n",
    "ans"
   ]
  },
  {
   "cell_type": "code",
   "execution_count": null,
   "metadata": {},
   "outputs": [],
   "source": []
  }
 ],
 "metadata": {
  "kernelspec": {
   "display_name": "Python 3",
   "language": "python",
   "name": "python3"
  },
  "language_info": {
   "codemirror_mode": {
    "name": "ipython",
    "version": 3
   },
   "file_extension": ".py",
   "mimetype": "text/x-python",
   "name": "python",
   "nbconvert_exporter": "python",
   "pygments_lexer": "ipython3",
   "version": "3.6.10"
  }
 },
 "nbformat": 4,
 "nbformat_minor": 4
}
